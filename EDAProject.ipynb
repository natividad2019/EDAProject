{
 "cells": [
  {
   "cell_type": "code",
   "execution_count": 2,
   "id": "211ce599-18c7-451f-8449-02927c192eca",
   "metadata": {},
   "outputs": [],
   "source": [
    "import pandas as pd\n"
   ]
  },
  {
   "cell_type": "code",
   "execution_count": 4,
   "id": "ca41cb00-bef7-459b-841c-e0c71874d666",
   "metadata": {},
   "outputs": [],
   "source": [
    "data = {\"Name\" : [\"Vinny\", \"Ammon\", \"Jason\"], \"Age\":[25,30,35]}\n"
   ]
  },
  {
   "cell_type": "code",
   "execution_count": 6,
   "id": "23a936fc-ebaa-47df-b680-648e470252bb",
   "metadata": {},
   "outputs": [],
   "source": [
    "df = pd.DataFrame(data)"
   ]
  },
  {
   "cell_type": "code",
   "execution_count": 7,
   "id": "0e3d685b-48c3-44ae-91e3-93bd7a5bd680",
   "metadata": {},
   "outputs": [
    {
     "name": "stdout",
     "output_type": "stream",
     "text": [
      "    Name  Age\n",
      "0  Vinny   25\n",
      "1  Ammon   30\n",
      "2  Jason   35\n"
     ]
    }
   ],
   "source": [
    "print(df)"
   ]
  },
  {
   "cell_type": "code",
   "execution_count": 9,
   "id": "0a9f2b66-dceb-445e-a797-d72a92002f40",
   "metadata": {},
   "outputs": [],
   "source": [
    "import numpy as np\n"
   ]
  },
  {
   "cell_type": "code",
   "execution_count": 12,
   "id": "ccd0db1b-9bae-4b78-877c-7385e193ec2a",
   "metadata": {},
   "outputs": [],
   "source": [
    "arr = np.array([1,2,3,4,5])"
   ]
  },
  {
   "cell_type": "code",
   "execution_count": 14,
   "id": "a9b4e89b-0392-44e9-9712-f0a02d973e97",
   "metadata": {},
   "outputs": [
    {
     "name": "stdout",
     "output_type": "stream",
     "text": [
      "3.0\n"
     ]
    }
   ],
   "source": [
    "print(arr.mean())"
   ]
  },
  {
   "cell_type": "code",
   "execution_count": 15,
   "id": "a0bcea1a-e4cd-43a7-b318-6e1af17c282f",
   "metadata": {},
   "outputs": [
    {
     "name": "stdout",
     "output_type": "stream",
     "text": [
      "15\n"
     ]
    }
   ],
   "source": [
    "print(arr.sum())"
   ]
  }
 ],
 "metadata": {
  "kernelspec": {
   "display_name": "Python 3 (ipykernel)",
   "language": "python",
   "name": "python3"
  },
  "language_info": {
   "codemirror_mode": {
    "name": "ipython",
    "version": 3
   },
   "file_extension": ".py",
   "mimetype": "text/x-python",
   "name": "python",
   "nbconvert_exporter": "python",
   "pygments_lexer": "ipython3",
   "version": "3.12.2"
  }
 },
 "nbformat": 4,
 "nbformat_minor": 5
}
